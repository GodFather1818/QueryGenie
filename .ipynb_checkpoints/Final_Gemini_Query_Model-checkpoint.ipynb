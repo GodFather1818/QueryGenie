{
 "cells": [
  {
   "cell_type": "markdown",
   "id": "e4f33dd5",
   "metadata": {},
   "source": [
    "# Importing Libraries"
   ]
  },
  {
   "cell_type": "code",
   "execution_count": 1,
   "id": "cb092661",
   "metadata": {},
   "outputs": [
    {
     "data": {
      "text/plain": [
       "True"
      ]
     },
     "execution_count": 1,
     "metadata": {},
     "output_type": "execute_result"
    }
   ],
   "source": [
    "import os\n",
    "from dotenv import load_dotenv\n",
    "import spacy\n",
    "import mysql.connector\n",
    "import google.generativeai as genai\n",
    "import re\n",
    "\n",
    "# Load environment variables\n",
    "load_dotenv()"
   ]
  },
  {
   "cell_type": "markdown",
   "id": "ed23aef3",
   "metadata": {},
   "source": [
    "# Google API Configuration and Conversational Bot initialisation"
   ]
  },
  {
   "cell_type": "code",
   "execution_count": 2,
   "id": "cbffa3e7",
   "metadata": {},
   "outputs": [],
   "source": [
    "genai.configure(api_key=os.getenv(\"GOOGLE_API_KEY\"))\n",
    "model = genai.GenerativeModel('gemini-1.5-flash')\n",
    "chat = model.start_chat(history=[])"
   ]
  },
  {
   "cell_type": "markdown",
   "id": "39dd5dc5",
   "metadata": {},
   "source": [
    "# Creating the Database Connection"
   ]
  },
  {
   "cell_type": "code",
   "execution_count": 26,
   "id": "d5d4049e",
   "metadata": {},
   "outputs": [],
   "source": [
    "def create_connection():\n",
    "    return mysql.connector.connect(\n",
    "        host=\"127.0.0.1\",\n",
    "        user=\"root\",\n",
    "        password=os.getenv(\"ROOT_PASSWORD\"),\n",
    "        database=\"26ideas\",\n",
    "        auth_plugin='mysql_native_password'\n",
    "    )"
   ]
  },
  {
   "cell_type": "markdown",
   "id": "bd9ab0ac",
   "metadata": {},
   "source": [
    "# Executing the SQL Query"
   ]
  },
  {
   "cell_type": "code",
   "execution_count": 4,
   "id": "b7299a21",
   "metadata": {},
   "outputs": [],
   "source": [
    "def execute_sql_query(sql):\n",
    "    conn = create_connection()\n",
    "    cursor = conn.cursor(dictionary=True)\n",
    "    cursor.execute(sql)\n",
    "    result = cursor.fetchall()\n",
    "    cursor.close()\n",
    "    conn.close()\n",
    "#     print(\"SQL Query Result:\", result)  # Debug statement\n",
    "    return result"
   ]
  },
  {
   "cell_type": "markdown",
   "id": "17a89a96",
   "metadata": {},
   "source": [
    "# Querying Gemini to generate the SQL Query from User Prompt"
   ]
  },
  {
   "cell_type": "code",
   "execution_count": 5,
   "id": "ad665f08",
   "metadata": {},
   "outputs": [],
   "source": [
    "def get_gemini_response(question, prompt):\n",
    "    response = model.generate_content([prompt, question])\n",
    "#     print(\"Gemini Response:\", response)  # Debug statement\n",
    "    return response.text.strip()\n"
   ]
  },
  {
   "cell_type": "markdown",
   "id": "59d5e608",
   "metadata": {},
   "source": [
    "# Cleaning the Returned SQL Query"
   ]
  },
  {
   "cell_type": "code",
   "execution_count": 6,
   "id": "3c0f42df",
   "metadata": {},
   "outputs": [],
   "source": [
    "def clean_sql_query(sql_query):\n",
    "    cleaned_query = re.sub(r'```', '', sql_query)\n",
    "    cleaned_query = re.sub(r'^\\s*sql\\s*', '', cleaned_query, flags=re.IGNORECASE)\n",
    "#     print(\"Cleaned SQL Query:\", cleaned_query.strip())  # Debug statement\n",
    "    return cleaned_query.strip()"
   ]
  },
  {
   "cell_type": "markdown",
   "id": "410a1d45",
   "metadata": {},
   "source": [
    "# Creation of The Context to be passed again to Gemini to return the final ans."
   ]
  },
  {
   "cell_type": "code",
   "execution_count": 7,
   "id": "d0544de1",
   "metadata": {},
   "outputs": [],
   "source": [
    "def context_construction(data):\n",
    "    context = \"\"\n",
    "    for row in data:\n",
    "        context += \", \".join(f\"{key}: {value}\" for key, value in row.items()) + \"\\n\"\n",
    "#     print(\"Constructed Context:\", context)  # Debug statement\n",
    "    return context"
   ]
  },
  {
   "cell_type": "markdown",
   "id": "f6722591",
   "metadata": {},
   "source": [
    "# Passing the prompt to Gemini to generate the final response."
   ]
  },
  {
   "cell_type": "code",
   "execution_count": 8,
   "id": "78c262f3",
   "metadata": {},
   "outputs": [],
   "source": [
    "def query_gemini(prompt, chat_session, stream=True):\n",
    "    if stream:\n",
    "        response = chat_session.send_message(prompt, stream=True)\n",
    "        full_response = ''\n",
    "        for chunk in response:\n",
    "            full_response += chunk.text\n",
    "#         print(\"Query Gemini Full Response:\", full_response)  # Debug statement\n",
    "        return full_response\n",
    "    else:\n",
    "        response = chat_session.send_message(prompt)\n",
    "#         print(\"Query Gemini Response:\", response.text)  # Debug statement\n",
    "        return response.text"
   ]
  },
  {
   "cell_type": "markdown",
   "id": "d93aaa5e",
   "metadata": {},
   "source": [
    "# Main Function (Integrating everything)"
   ]
  },
  {
   "cell_type": "markdown",
   "id": "1a581613",
   "metadata": {},
   "source": [
    "### Adding the session_data, i.e history of the last mentioned, if no new mentions of the person or company, then the last mentioned is used. For example :- What is his designation?"
   ]
  },
  {
   "cell_type": "code",
   "execution_count": 20,
   "id": "4c271023",
   "metadata": {},
   "outputs": [],
   "source": [
    "def handle_conversation(user_input, chat_session, session_data, stream=True):\n",
    "    prompt = ogPrompt\n",
    "    \n",
    "    # Generating the SQL Query from the User Input\n",
    "    \n",
    "    sql_query = get_gemini_response(user_input, prompt)\n",
    "    cleaned_query = clean_sql_query(sql_query)\n",
    "\n",
    "    try:\n",
    "        results = execute_sql_query(cleaned_query)\n",
    "#         print(cleaned_query)\n",
    "#         print(results)\n",
    "\n",
    "# Construction of Context\n",
    "\n",
    "        context = context_construction(results)\n",
    "#         print(context)\n",
    "        \n",
    "        # Generating the FINAL Prompt\n",
    "        enhanced_prompt = f\"The user asked: {user_input}\\n\\This is the output of the User's Query from the database. This means that this is the answer to the question Uer has asked:\\n{context}\\nProvide a nice formatted answer to this question only based on this data to give it back to the User.\"\n",
    "        response = query_gemini(enhanced_prompt, chat_session, stream)\n",
    "        print(\"Gemini Enhanced Response:\", response) \n",
    "        \n",
    "\n",
    "    except Exception as e:\n",
    "        print(f\"Error executing SQL query: {e}\")"
   ]
  },
  {
   "cell_type": "markdown",
   "id": "884cf0dd",
   "metadata": {},
   "source": [
    "### The prompt used to generate the SQL Query"
   ]
  },
  {
   "cell_type": "code",
   "execution_count": 21,
   "id": "efbeb407",
   "metadata": {},
   "outputs": [],
   "source": [
    "ogPrompt=''' \n",
    "    You are an expert in converting English questions to SQL queries!\n",
    "    \n",
    "        The SQL database has the following tables - newContacts and Company.\n",
    "        See the Name of the columns and then give the query. Ensure that the SQL code does not include the word \"sql\" and does not have triple backticks (```).\n",
    "        Where the schemas of both the table are are: newContacts (\n",
    "            id VARCHAR(255) PRIMARY KEY,\n",
    "            name VARCHAR(255) NOT NULL,\n",
    "            designation VARCHAR(255),\n",
    "            city VARCHAR(255),\n",
    "            state VARCHAR(255),\n",
    "            country VARCHAR(255),\n",
    "            pincode VARCHAR(255),\n",
    "            address TEXT,\n",
    "            tags TEXT, /* can be investor, freelancer, developer, accountants, consultant */\n",
    "            priority VARCHAR(255),\n",
    "            companyId VARCHAR(255),\n",
    "            FOREIGN KEY (companyId) REFERENCES Company(id)\n",
    "\n",
    "        );\n",
    "    \n",
    "        Company (\n",
    "\n",
    "            id VARCHAR(255) PRIMARY KEY,\n",
    "            name VARCHAR(255) NOT NULL,\n",
    "            domain VARCHAR(255) UNIQUE NOT NULL,\n",
    "            domain_info TEXT,\n",
    "            linkedin VARCHAR(255),\n",
    "            type TEXT /*-- software, healthcare, venture studio, etc. */\n",
    "        );\n",
    "    \n",
    "        Example questions:\n",
    "    \n",
    "        - How many entries of records are present in newContacts?\n",
    "        - Give the list of all companies\n",
    "        - List all companies in the software sector.\n",
    "\n",
    "'''\n"
   ]
  },
  {
   "cell_type": "code",
   "execution_count": 25,
   "id": "761eb9fa",
   "metadata": {},
   "outputs": [
    {
     "name": "stdout",
     "output_type": "stream",
     "text": [
      "Chat session started. Type 'exit' to end the session.\n",
      "You: List the companies located in Mumbai are software companies?\n",
      "Gemini Enhanced Response: The software companies located in Mumbai are:\n",
      "\n",
      "* Google\n",
      "* Oracle \n",
      "\n",
      "You: List all contacts who are working in software companies but are not software developers.\n",
      "Gemini Enhanced Response: Here are the contacts who work in software companies but are not software developers:\n",
      "\n",
      "* Ravi Patel\n",
      "* Amit Kumar\n",
      "* Vikram Singh \n",
      "\n",
      "You: List all contacts who are developers.\n",
      "Gemini Enhanced Response: Here are the contacts who are developers:\n",
      "\n",
      "* Sahil Shah\n",
      "* Vatsal Shah\n",
      "* Parth Shah\n",
      "* Manish Verma\n",
      "* Harsh Parmar\n",
      "* Dhruv Gangar\n",
      "* Trisha Doshi\n",
      "* Om Jethwa \n",
      "\n",
      "You: What is the designation of Sahil Shah?\n",
      "Gemini Enhanced Response: Sahil Shah's designation is Web Developer. \n",
      "\n",
      "You: exit\n",
      "Chat session ended.\n"
     ]
    }
   ],
   "source": [
    "print(\"Chat session started. Type 'exit' to end the session.\")\n",
    "session_data = {}\n",
    "while True:\n",
    "    user_input = input(\"You: \")\n",
    "    if user_input.lower() == 'exit':\n",
    "        print(\"Chat session ended.\")\n",
    "        break\n",
    "    handle_conversation(user_input, chat, session_data)"
   ]
  }
 ],
 "metadata": {
  "kernelspec": {
   "display_name": "Python 3 (ipykernel)",
   "language": "python",
   "name": "python3"
  },
  "language_info": {
   "codemirror_mode": {
    "name": "ipython",
    "version": 3
   },
   "file_extension": ".py",
   "mimetype": "text/x-python",
   "name": "python",
   "nbconvert_exporter": "python",
   "pygments_lexer": "ipython3",
   "version": "3.10.6"
  },
  "vscode": {
   "interpreter": {
    "hash": "b1f570cb91817614ef5c059314506ddd1665cb272bc6d56c14d46da724343f92"
   }
  }
 },
 "nbformat": 4,
 "nbformat_minor": 5
}
